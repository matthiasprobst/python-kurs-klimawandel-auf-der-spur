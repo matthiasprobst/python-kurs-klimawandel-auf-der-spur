{
 "cells": [
  {
   "cell_type": "markdown",
   "id": "1fd29ab8-2ea3-4c3b-8f29-2dff1e6c3369",
   "metadata": {},
   "source": [
    "# Eigen Projekte\n",
    "\n",
    "Mit dem bisherigen Wissen und den Datenquellen, die [hier](../Ressourcen.pdf) finden kannst, sollst du nun selber aktiv werden und Daten anzapfen. Lass der Kreativität und Neugierde freien lauf!\n",
    "\n",
    "Viel Spaß - und solltest du stecken bleiben, frag doch gerne nach!"
   ]
  },
  {
   "cell_type": "code",
   "execution_count": null,
   "id": "79d410d7-f19d-47ec-8fb3-a944533904f8",
   "metadata": {},
   "outputs": [],
   "source": []
  }
 ],
 "metadata": {
  "kernelspec": {
   "display_name": "Python 3 (ipykernel)",
   "language": "python",
   "name": "python3"
  },
  "language_info": {
   "codemirror_mode": {
    "name": "ipython",
    "version": 3
   },
   "file_extension": ".py",
   "mimetype": "text/x-python",
   "name": "python",
   "nbconvert_exporter": "python",
   "pygments_lexer": "ipython3",
   "version": "3.13.2"
  }
 },
 "nbformat": 4,
 "nbformat_minor": 5
}
