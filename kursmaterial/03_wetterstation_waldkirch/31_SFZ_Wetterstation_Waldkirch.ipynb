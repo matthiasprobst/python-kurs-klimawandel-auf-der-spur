{
 "cells": [
  {
   "cell_type": "markdown",
   "id": "3070504c-072e-4e4c-9f29-9548b31ca1a9",
   "metadata": {},
   "source": [
    "# Wetterstation in Waldkirch abfragen\n",
    "\n",
    "In Waldkirch hat das Schülerforschungszentrum eine Wetterstation eingerichtet. Sie misst\n",
    "- die Temperatur\n",
    "- die Luftfeuchtigkeit und\n",
    "- den Wind.\n",
    "\n",
    "Wir können sie aus dem Internet aus erreichen.\n",
    "\n",
    "Wenn Daten im Internet verfügbar gemacht werden, dann häufig über eine Schnittstelle (auch API genannt, was für *Application Programming Interface* steht)\n",
    "\n",
    "In diesem Kursteil lernen wir, wie wir die API der Wetterstation nach Daten fragen können."
   ]
  },
  {
   "cell_type": "code",
   "execution_count": null,
   "id": "0644c02a-f053-4c72-b975-12bf8dfb5d26",
   "metadata": {},
   "outputs": [],
   "source": [
    "import requests"
   ]
  },
  {
   "cell_type": "code",
   "execution_count": null,
   "id": "8a282444-2c99-45c6-903a-3c9dc13a1aea",
   "metadata": {},
   "outputs": [],
   "source": [
    "TOKEN = \"Dein Tutor gibt dir einen TOKEN\""
   ]
  },
  {
   "cell_type": "markdown",
   "id": "bedd6ead-17c9-4237-88db-82503f1945e0",
   "metadata": {},
   "source": [
    "## Letze Messung:"
   ]
  },
  {
   "cell_type": "code",
   "execution_count": null,
   "id": "5f578327-7607-48d4-984a-76fca67e8e90",
   "metadata": {},
   "outputs": [],
   "source": [
    "r = requests.get(\n",
    "    \"https://wetter.sfz-region-freiburg.de/api/v1/last-measurement\",\n",
    "    params = {\"key\": TOKEN}\n",
    ")"
   ]
  },
  {
   "cell_type": "code",
   "execution_count": null,
   "id": "573b9027-ba0d-4eb1-a0cd-a1b155e09a83",
   "metadata": {},
   "outputs": [],
   "source": [
    "r.json()"
   ]
  },
  {
   "cell_type": "markdown",
   "id": "df8da644-4ac0-4b96-a0e4-a32535239d16",
   "metadata": {},
   "source": [
    "## Letzten 100 Messungen:"
   ]
  },
  {
   "cell_type": "code",
   "execution_count": null,
   "id": "f14e5155-a9db-486e-98f3-c7c1ce8cf797",
   "metadata": {},
   "outputs": [],
   "source": [
    "r = requests.get(\n",
    "    \"https://wetter.sfz-region-freiburg.de/api/v1/measurements\",\n",
    "    params = {\"key\": TOKEN, \"count\": 11000, \"step\": 1000}\n",
    ")"
   ]
  },
  {
   "cell_type": "code",
   "execution_count": null,
   "id": "c3548b13-61e6-4092-9fec-8412345abc6f",
   "metadata": {},
   "outputs": [],
   "source": [
    "data = r.json()"
   ]
  },
  {
   "cell_type": "code",
   "execution_count": null,
   "id": "30602a09-6573-48ef-adf7-2b375b374b36",
   "metadata": {},
   "outputs": [],
   "source": [
    "temperature = [d[\"temperature\"] for d in data[\"data\"]]\n",
    "wind = [d[\"wind\"] for d in data[\"data\"]]\n",
    "humidity = [d[\"humidity\"] for d in data[\"data\"]]\n",
    "date = [d[\"date\"] for d in data[\"data\"]]"
   ]
  },
  {
   "cell_type": "code",
   "execution_count": null,
   "id": "ad01aacf-f2b9-49f6-bc60-4e40bf812c59",
   "metadata": {
    "scrolled": true
   },
   "outputs": [],
   "source": [
    "import pandas as pd"
   ]
  },
  {
   "cell_type": "code",
   "execution_count": null,
   "id": "df9262a6-cad8-4ba0-950e-c59da84a474b",
   "metadata": {},
   "outputs": [],
   "source": [
    "df = pd.DataFrame({\"temperature\": temperature, \"wind\": wind, \"humidity\": humidity, \"date\": pd.to_datetime(date, utc=True, unit='s')})"
   ]
  },
  {
   "cell_type": "code",
   "execution_count": null,
   "id": "efc19a16-a1d4-475a-9049-41423186685f",
   "metadata": {},
   "outputs": [],
   "source": [
    "df[[\"date\", \"wind\"]].plot(x=\"date\")"
   ]
  },
  {
   "cell_type": "code",
   "execution_count": null,
   "id": "6684764a-7a29-4741-8702-58c670341989",
   "metadata": {},
   "outputs": [],
   "source": [
    "df[[\"date\", \"temperature\"]].plot(x=\"date\")"
   ]
  },
  {
   "cell_type": "code",
   "execution_count": null,
   "id": "4a5e5258-ec30-4043-8f80-020ed772abfb",
   "metadata": {},
   "outputs": [],
   "source": [
    "from scipy.signal import savgol_filter\n",
    "import matplotlib.pyplot as plt"
   ]
  },
  {
   "cell_type": "code",
   "execution_count": null,
   "id": "e70148de-a939-46ad-94be-ac2442b31f3f",
   "metadata": {},
   "outputs": [],
   "source": [
    "plt.figure()\n",
    "plt.plot(date, temperature)\n",
    "plt.plot(date, savgol_filter(temperature, 51, 3))\n",
    "plt.show()"
   ]
  },
  {
   "cell_type": "markdown",
   "id": "ed62a877-834f-4757-b6d3-75fd58789c0e",
   "metadata": {},
   "source": [
    "# Zusatzaufgabe\n",
    "\n",
    "> Ermittle Ausreißer oder \"kaputte\" (invalide) in den Daten"
   ]
  },
  {
   "cell_type": "code",
   "execution_count": null,
   "id": "02029431-2d98-419c-9f77-ee9cc01d3e2a",
   "metadata": {},
   "outputs": [],
   "source": []
  }
 ],
 "metadata": {
  "kernelspec": {
   "display_name": "Python 3 (ipykernel)",
   "language": "python",
   "name": "python3"
  },
  "language_info": {
   "codemirror_mode": {
    "name": "ipython",
    "version": 3
   },
   "file_extension": ".py",
   "mimetype": "text/x-python",
   "name": "python",
   "nbconvert_exporter": "python",
   "pygments_lexer": "ipython3",
   "version": "3.13.2"
  }
 },
 "nbformat": 4,
 "nbformat_minor": 5
}
