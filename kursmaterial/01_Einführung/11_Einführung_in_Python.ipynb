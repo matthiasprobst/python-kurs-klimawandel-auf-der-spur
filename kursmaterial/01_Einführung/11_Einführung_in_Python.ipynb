{
 "cells": [
  {
   "cell_type": "markdown",
   "id": "4439f4c3-49ab-48d9-9e21-599508e7e33f",
   "metadata": {},
   "source": [
    "# Einführung in Python\n",
    "\n",
    "In diesem Notebook erhältst du eine Einführung in Python.\n",
    "\n",
    "Voraussetzungen:\n",
    "- Du solltest bereits wissen, wie man ein `Jupyter Notebook` asuführt.\n",
    "\n",
    "Viel Spaß!"
   ]
  },
  {
   "cell_type": "markdown",
   "id": "1e0fb154-6921-4ce0-b4df-0ae4aa9ea2e0",
   "metadata": {},
   "source": [
    "---\n",
    "## Variablen\n",
    "\n",
    "Stell dir eine Variable wie eine Box vor, in die du etwas hineinlegen kannst – z. B. eine Zahl, ein Wort oder ein Ergebnis einer Rechnung.\n",
    "\n",
    "Diese Box bekommt einen Namen, damit du sie später wieder verwenden kannst."
   ]
  },
  {
   "cell_type": "code",
   "execution_count": 1,
   "id": "04140f1a-27e9-4ae0-b73b-120c84dfd153",
   "metadata": {},
   "outputs": [],
   "source": [
    "name = \"Lena\"\n",
    "alter = 15"
   ]
  },
  {
   "cell_type": "markdown",
   "id": "95c6b932-fa6b-49b3-849c-1cb01e02c5c1",
   "metadata": {},
   "source": [
    "**Erklärung:**\n",
    "\n",
    "> `name` ist eine Variable, die den Text \"Lena\" enthält. <br>\n",
    "> `alter` ist eine Variable, die die Zahl 14 enthält."
   ]
  },
  {
   "cell_type": "markdown",
   "id": "63ee9e92-0c6d-4c91-a1d6-f69011326360",
   "metadata": {},
   "source": [
    "**Was du noch wissen solltest**\n",
    "\n",
    "> - Der Variablenname kann ein einzelner Buchstabe sein (z.B. `x`, `a`, `z`) oder auch ein Wort (z.B. `zwischenergebnis`, `temperatur`).<br>\n",
    "> - Achte nur darauf, dass eine Variable nie mit einer Zahl beginnt oder Leerzeichen, Sonderzeichen oder Umlaute beinhaltet!<br>\n",
    "> - Lange Variablen kannst du mit einem Unterstrich besser leserlich darstellen: `wichtiger_wert`"
   ]
  },
  {
   "cell_type": "markdown",
   "id": "15502d22-9f3a-4125-a2ed-0d5f561afcfb",
   "metadata": {},
   "source": [
    "**Aufgabe**\n",
    "\n",
    "> Definiere dir nun eigene Variablen. Verwende `print(...)`, um sie darzustellen. Hier einige Beispiele, wie man `print(...)` verwendet:"
   ]
  },
  {
   "cell_type": "code",
   "execution_count": 2,
   "id": "5a88b6cb-bd01-4864-ae05-c158578f9548",
   "metadata": {},
   "outputs": [
    {
     "name": "stdout",
     "output_type": "stream",
     "text": [
      "Name:\n",
      "Lena\n",
      "Mein name ist Lena und ich bin 15 alt\n"
     ]
    }
   ],
   "source": [
    "print(\"Name:\")\n",
    "print(name)\n",
    "print(f\"Mein name ist {name} und ich bin {alter} alt\")"
   ]
  },
  {
   "cell_type": "code",
   "execution_count": null,
   "id": "bfa8ab9f-f121-44ce-94ab-5d5c53df65fe",
   "metadata": {},
   "outputs": [],
   "source": []
  },
  {
   "cell_type": "code",
   "execution_count": null,
   "id": "c0bd97fc-e60e-4989-888a-441cda509992",
   "metadata": {},
   "outputs": [],
   "source": []
  },
  {
   "cell_type": "code",
   "execution_count": null,
   "id": "2cb2383e-9668-410c-85af-e1cb8b446c9a",
   "metadata": {},
   "outputs": [],
   "source": []
  },
  {
   "cell_type": "code",
   "execution_count": null,
   "id": "08f1606e-a2dc-42f9-afba-2d57b848d7c7",
   "metadata": {},
   "outputs": [],
   "source": []
  },
  {
   "cell_type": "markdown",
   "id": "04c77bc2-9a2a-4796-87d1-ba18bdc597ca",
   "metadata": {},
   "source": [
    "---\n",
    "# Datentypen\n",
    "\n",
    "Jede Variable hat einen Datentyp. Der Datentyp sagt Python, was für eine Art von Information gespeichert wird.\n",
    "\n",
    "## Grundlegende Datentypen\n",
    "\n",
    "Zunächst betrachten wir die grundlegendsten und wichtigsten Datentypen:\n",
    "\n",
    "| Datentyp | Beschreibung                 | Beispiel          |\n",
    "|----------|------------------------------|-------------------|\n",
    "| `int`    | Ganze Zahl                   | `10`, `-3`, `0`   |\n",
    "| `float`  | Kommazahl                    | `3.14`, `0.5`     |\n",
    "| `str`    | Zeichenkette (Text/String)   | `\"Hallo\"`, `\"123\"`|\n",
    "| `bool`   | Wahrheitswert (Boolean)      | `True`, `False`   |"
   ]
  },
  {
   "cell_type": "markdown",
   "id": "61e85206-771f-4941-a6a7-db276ba7338a",
   "metadata": {},
   "source": [
    "Es ist wichtig zu verstehen, welche Variable mit welchem Datentyp *belegt* ist, denn dies hat Einfluss darauf, was bei einer Verarbeitung geschieht. Definieren wir uns erneut einige Variablen: "
   ]
  },
  {
   "cell_type": "code",
   "execution_count": 3,
   "id": "5c3c0ac6-e3e3-413c-8819-547d9c91ec90",
   "metadata": {},
   "outputs": [],
   "source": [
    "zahl1 = 1\n",
    "zahl2 = 5\n",
    "zahl3 = 2.3\n",
    "text1 = \"hallo\""
   ]
  },
  {
   "cell_type": "markdown",
   "id": "3002e425-8fe7-4f8d-914c-3f7854829c29",
   "metadata": {},
   "source": [
    "Nun können wir die Variablen **verabreiten**, also z.B. **addieren** oder **subtrahieren**, also mathematische Operationen anwenden:"
   ]
  },
  {
   "cell_type": "code",
   "execution_count": 4,
   "id": "c776d785-195c-448f-9be0-79dd60944845",
   "metadata": {},
   "outputs": [
    {
     "name": "stdout",
     "output_type": "stream",
     "text": [
      "6\n"
     ]
    }
   ],
   "source": [
    "summe1 = zahl1 + zahl2\n",
    "print(summe1)"
   ]
  },
  {
   "cell_type": "code",
   "execution_count": 5,
   "id": "9765ff7b-e86a-4df9-8206-bf38303e5cf0",
   "metadata": {},
   "outputs": [
    {
     "name": "stdout",
     "output_type": "stream",
     "text": [
      "-4\n"
     ]
    }
   ],
   "source": [
    "differenz1 = zahl1 - zahl2\n",
    "print(differenz1)"
   ]
  },
  {
   "cell_type": "markdown",
   "id": "f8589769-7409-40a5-9521-820af08bea32",
   "metadata": {},
   "source": [
    "**Aufgaben**\n",
    "\n",
    "> 1. Was passiert, wenn wir `zahl1` und `zahl2` addieren? Was ist der Datentyp des Ergebnisses? Tipp: Wende `type(...)` auf dein Ergebnis an. <br>\n",
    "> 2. Wende Multiplikation und Division an. <br>\n",
    "> 3. Was passiert wenn du `zahl1` und `text1` addierst?\n",
    "\n",
    "**Tipp:** Du kannst den Datentyp auch mit `type(..)` überprüfen:"
   ]
  },
  {
   "cell_type": "code",
   "execution_count": 6,
   "id": "3adbbc78-b5cd-4931-b807-5a47b2f97f01",
   "metadata": {},
   "outputs": [
    {
     "data": {
      "text/plain": [
       "int"
      ]
     },
     "execution_count": 6,
     "metadata": {},
     "output_type": "execute_result"
    }
   ],
   "source": [
    "type(zahl1)"
   ]
  },
  {
   "cell_type": "code",
   "execution_count": null,
   "id": "868cecd4-3718-4972-ba6d-97d531752b76",
   "metadata": {},
   "outputs": [],
   "source": []
  },
  {
   "cell_type": "code",
   "execution_count": null,
   "id": "88319798-0eee-4a9d-9894-99dd4be94125",
   "metadata": {},
   "outputs": [],
   "source": []
  },
  {
   "cell_type": "code",
   "execution_count": null,
   "id": "937e1d97-415a-4f99-99f8-3163593b168a",
   "metadata": {},
   "outputs": [],
   "source": []
  },
  {
   "cell_type": "code",
   "execution_count": null,
   "id": "19dfd256-817a-49b0-ac2a-40ddd8dd9256",
   "metadata": {},
   "outputs": [],
   "source": []
  },
  {
   "cell_type": "code",
   "execution_count": null,
   "id": "ff5bbadd-8741-4a75-90d0-3a2b1472e636",
   "metadata": {},
   "outputs": [],
   "source": []
  },
  {
   "cell_type": "markdown",
   "id": "4704e545-c269-4959-b7bc-e221e86d42c2",
   "metadata": {},
   "source": [
    "---\n",
    "## Besondere Datentypen\n",
    "\n",
    "Neben den grundlegenden Datentypen gibt es noch besondere Datentypen, die etwas komplexer sind. Schauen wir uns einige an:"
   ]
  },
  {
   "cell_type": "markdown",
   "id": "19984135-f68c-4313-a96c-05868046585e",
   "metadata": {},
   "source": [
    "### Listen\n",
    "\n",
    "Mit Listen kannst du mehrere Werte in einer einzigen Variable speichern. Das ist praktisch, wenn du z. B. mehrere Namen, Zahlen oder Objekte sammeln willst."
   ]
  },
  {
   "cell_type": "code",
   "execution_count": 7,
   "id": "ff9c1649-2b0b-4e32-8793-9e07f2d560e8",
   "metadata": {},
   "outputs": [],
   "source": [
    "fruechte = [\"Apfel\", \"Banane\", \"Kirsche\"]\n",
    "zahlen = [1, 2, 3, 4, 5]\n",
    "\n",
    "# Wir können übrigens auch unterschiedlichste Datentypen in einer Liste sammeln:\n",
    "verschiedenes = [\"Apfel\", 3, 5.6, False]"
   ]
  },
  {
   "cell_type": "markdown",
   "id": "5fa0d489-269f-4149-b6ab-c7dc7c00db63",
   "metadata": {},
   "source": [
    "Du erkennst Listen an den eckigen Klammern `[` und `]`. Die Elemente darin sind durch *Kommas* getrennt.\n",
    "\n",
    "Wir können eine Liste *als Ganzes* ausdrucken, oder nur ein bestimmtes Element daraus: "
   ]
  },
  {
   "cell_type": "code",
   "execution_count": 8,
   "id": "2cb98d18-cd2c-4603-8032-49abc3cee4be",
   "metadata": {},
   "outputs": [
    {
     "name": "stdout",
     "output_type": "stream",
     "text": [
      "['Apfel', 'Banane', 'Kirsche']\n"
     ]
    }
   ],
   "source": [
    "print(fruechte)"
   ]
  },
  {
   "cell_type": "code",
   "execution_count": 9,
   "id": "1f12944e-84cb-49c2-9fac-b96a34254540",
   "metadata": {},
   "outputs": [
    {
     "name": "stdout",
     "output_type": "stream",
     "text": [
      "Apfel\n",
      "3\n"
     ]
    }
   ],
   "source": [
    "print(fruechte[0])  # Apfel (erstes Element)\n",
    "print(zahlen[2])   # 3 (drittes Element)"
   ]
  },
  {
   "cell_type": "markdown",
   "id": "22ba792a-0c5c-4f3a-aa28-25925e828d2e",
   "metadata": {},
   "source": [
    "**Was du noch wissen solltest:**\n",
    "> Das erste Element muss mit dem Index 0 addressiert werden: `fruechte[0]`<br>\n",
    "> Listen haben besondere Eigenschaften. Man kann die Länge einer Liste bestimmen (`len(...)`) <br>\n",
    "> Einer Liste können Elemente hinzugefügt werden (`.append(...)`)"
   ]
  },
  {
   "cell_type": "code",
   "execution_count": 10,
   "id": "e66db95a-0ae2-4d7a-b378-b9c814efb1f9",
   "metadata": {},
   "outputs": [
    {
     "name": "stdout",
     "output_type": "stream",
     "text": [
      "Anzahl an Früchten: 3\n"
     ]
    }
   ],
   "source": [
    "n_fruechte = len(fruechte)\n",
    "\n",
    "print(\"Anzahl an Früchten:\", n_fruechte)"
   ]
  },
  {
   "cell_type": "code",
   "execution_count": 11,
   "id": "01cc44e3-e201-43c9-9f59-adf5fc03b8a7",
   "metadata": {},
   "outputs": [
    {
     "name": "stdout",
     "output_type": "stream",
     "text": [
      "['Apfel', 'Banane', 'Kirsche', 'Kiwi']\n"
     ]
    }
   ],
   "source": [
    "fruechte.append(\"Kiwi\")\n",
    "\n",
    "print(fruechte)"
   ]
  },
  {
   "cell_type": "markdown",
   "id": "3ba12431-1732-4eab-937d-a1b287ce1c9e",
   "metadata": {},
   "source": [
    "---\n",
    "## Dictionaries\n",
    "\n",
    "In sog. `Dictionaries` können wir auch ganz verschiedene Daten abspeichern - ähnlich wie in einer Liste. Der Unterschied ist, dass wir jedem Eintrag der Liste einen Namen geben können. So können wir bestimmte Einträge \"beim Namen ansprechen\":"
   ]
  },
  {
   "cell_type": "code",
   "execution_count": 30,
   "id": "e7acd244-38d8-48c5-9a4c-79a824bc67ab",
   "metadata": {},
   "outputs": [
    {
     "name": "stdout",
     "output_type": "stream",
     "text": [
      "{'name': 'Lena', 'alter': 15, 'lieblings_fruechte': ['Apfel', 'Banane', 'Kirsche', 'Kiwi']}\n"
     ]
    }
   ],
   "source": [
    "daten = {\"name\": \"Lena\", \"alter\": 15, \"lieblings_fruechte\": fruechte}\n",
    "print(daten)"
   ]
  },
  {
   "cell_type": "code",
   "execution_count": 31,
   "id": "2dcb2911-dc4a-4d1b-a382-31a2a9dc138e",
   "metadata": {},
   "outputs": [
    {
     "data": {
      "text/plain": [
       "'Lena'"
      ]
     },
     "execution_count": 31,
     "metadata": {},
     "output_type": "execute_result"
    }
   ],
   "source": [
    "daten[\"name\"]"
   ]
  },
  {
   "cell_type": "code",
   "execution_count": 32,
   "id": "b770a052-1b2d-479f-8949-6a258d1edf0b",
   "metadata": {},
   "outputs": [
    {
     "data": {
      "text/plain": [
       "['Apfel', 'Banane', 'Kirsche', 'Kiwi']"
      ]
     },
     "execution_count": 32,
     "metadata": {},
     "output_type": "execute_result"
    }
   ],
   "source": [
    "daten[\"lieblings_fruechte\"]"
   ]
  },
  {
   "cell_type": "markdown",
   "id": "b6687600-20a3-41bf-84ec-ad7dcf5a7d76",
   "metadata": {},
   "source": [
    "**Aufgabe**\n",
    "\n",
    "> Erstelle eigene Dictionaries mit eigenen Werten und versuche sie wieder auszulesen."
   ]
  },
  {
   "cell_type": "code",
   "execution_count": null,
   "id": "16b9e469-ea4a-427c-a440-44fe23d28f9d",
   "metadata": {},
   "outputs": [],
   "source": []
  },
  {
   "cell_type": "code",
   "execution_count": null,
   "id": "4525eee3-91fc-4e96-8e7c-59edcc03793a",
   "metadata": {},
   "outputs": [],
   "source": []
  },
  {
   "cell_type": "code",
   "execution_count": null,
   "id": "cf41ef6c-ffdb-4298-9744-f09f486a8238",
   "metadata": {},
   "outputs": [],
   "source": []
  },
  {
   "cell_type": "markdown",
   "id": "2e8a678d-055e-4a4e-a83f-84cf54efcde5",
   "metadata": {},
   "source": [
    "---\n",
    "# Erweiterungen von Python durch Einbindung von Paketen\n",
    "\n",
    "In Python gibt es viele nützliche Pakete (auch Bibliotheken genannt), die dir helfen, bestimmte Aufgaben einfacher zu lösen – zum Beispiel mathematische Berechnungen, Diagramme oder Datenanalysen.\n",
    "\n",
    "Wir schauen uns im Folgenden nun diese Pakete an:\n",
    "- `numpy`\n",
    "- `pandas`\n",
    "- `matplotlib`\n",
    "\n",
    "---\n",
    "## numpy\n",
    "Ein bekanntes und oft genutztes Paket ist `numpy` (gesprochen: Num-pie). Es hilft dir bei Berechnungen mit Zahlenlisten, Mittelwerten und vielem mehr.\n",
    "\n",
    "So bindest du es ein:"
   ]
  },
  {
   "cell_type": "code",
   "execution_count": 12,
   "id": "d5510659-d7a1-422e-a512-e57cbfdab595",
   "metadata": {},
   "outputs": [],
   "source": [
    "import numpy as np"
   ]
  },
  {
   "cell_type": "markdown",
   "id": "c8c008bd-b80e-4679-8ab8-dc293739b791",
   "metadata": {},
   "source": [
    "> `np` ist nur eine Abkürzung (Alias) – damit musst du später nicht jedes Mal numpy ausschreiben."
   ]
  },
  {
   "cell_type": "markdown",
   "id": "6322b151-bd4f-40cb-87bb-814d87f60a19",
   "metadata": {},
   "source": [
    "**Beispiel**: Mittelwert berechnen mit `mean()`\n",
    "\n",
    "Stell dir vor, du hast mehrere Noten und willst den Durchschnitt berechnen. Dafür gibt es in numpy die Funktion `mean()`:"
   ]
  },
  {
   "cell_type": "code",
   "execution_count": 13,
   "id": "53e16095-16e9-4882-ab13-c21fb7945025",
   "metadata": {},
   "outputs": [
    {
     "name": "stdout",
     "output_type": "stream",
     "text": [
      "Durchschnittsnote: 1.825\n"
     ]
    }
   ],
   "source": [
    "import numpy as np\n",
    "\n",
    "noten = [1.3, 2.0, 2.3, 1.7]  # Liste an Noten\n",
    "durchschnitt = np.mean(noten)\n",
    "\n",
    "print(\"Durchschnittsnote:\", durchschnitt)"
   ]
  },
  {
   "cell_type": "markdown",
   "id": "b4820d5b-3c3f-443e-8c19-56adae8ea496",
   "metadata": {},
   "source": [
    "Das Paket `numpy` stellt dir nicht nur `.mean()` zur Verfügung, sondern ganz viele weitere Funktionen.\n",
    "\n",
    "Hier noch ein weiteres Beispiel:"
   ]
  },
  {
   "cell_type": "code",
   "execution_count": 14,
   "id": "2c2dfcf2-1003-46e7-a5b8-597dfa629b39",
   "metadata": {},
   "outputs": [
    {
     "data": {
      "text/plain": [
       "np.float64(3.4)"
      ]
     },
     "execution_count": 14,
     "metadata": {},
     "output_type": "execute_result"
    }
   ],
   "source": [
    "np.abs(-3.4)"
   ]
  },
  {
   "cell_type": "markdown",
   "id": "a342cecd-7df8-4f5c-8aa1-c6b70d930489",
   "metadata": {},
   "source": [
    "---\n",
    "## pandas\n",
    "\n",
    "[pandas](https://pandas.pydata.org/) ist Bibliothek, speziell für Datenanalyse. Es erleichtert uns\n",
    "- das Lesen von Daten\n",
    "- das Verarbeiten von Daten\n",
    "- das Speichern von Daten\n",
    "- das Darstellen von Daten.\n",
    "\n",
    "Weil es so umfangreich ist, werden wir es auch viel verwenden."
   ]
  },
  {
   "cell_type": "code",
   "execution_count": 20,
   "id": "07aa1c6a-7251-4115-9f1b-d03dbb9e68e2",
   "metadata": {},
   "outputs": [],
   "source": [
    "import pandas as pd"
   ]
  },
  {
   "cell_type": "markdown",
   "id": "feb17aba-3b49-41b8-8694-01036df704f8",
   "metadata": {},
   "source": [
    "Mit `pandas` kann man tabellarische Daten einlesen. Wir speichern den Inhalt der Datei \"testdaten.csv\" in der Variable `df`"
   ]
  },
  {
   "cell_type": "code",
   "execution_count": 24,
   "id": "5faa14b9-5d0e-4534-9cfb-d3d3ca7eb7cd",
   "metadata": {},
   "outputs": [],
   "source": [
    "df = pd.read_csv(\"testdaten.csv\")"
   ]
  },
  {
   "cell_type": "markdown",
   "id": "40fce3ae-31b8-44e7-89c4-fa90482b9a3a",
   "metadata": {},
   "source": [
    "Ich habe `df` gewählt, denn der Datentyp der Variable ist `pandas.DataFrame`, also ein Dataframe. Damit ist im Prinzip eine Tabelle gemeint.\n",
    "\n",
    "Dass es sich um eine Tabelle handelt, sehen wir gleich.\n",
    "\n",
    "Es ist nützlich, sich zunächst nur die ersten Zeilen anzeigen zu lassen, also den Kopf (oder Engslisch \"head\"):"
   ]
  },
  {
   "cell_type": "code",
   "execution_count": 22,
   "id": "5bb9ce5f-9f47-401a-becd-1692759e8127",
   "metadata": {},
   "outputs": [
    {
     "data": {
      "text/html": [
       "<div>\n",
       "<style scoped>\n",
       "    .dataframe tbody tr th:only-of-type {\n",
       "        vertical-align: middle;\n",
       "    }\n",
       "\n",
       "    .dataframe tbody tr th {\n",
       "        vertical-align: top;\n",
       "    }\n",
       "\n",
       "    .dataframe thead th {\n",
       "        text-align: right;\n",
       "    }\n",
       "</style>\n",
       "<table border=\"1\" class=\"dataframe\">\n",
       "  <thead>\n",
       "    <tr style=\"text-align: right;\">\n",
       "      <th></th>\n",
       "      <th>Jahr</th>\n",
       "      <th>CO2_ppm</th>\n",
       "      <th>Temperatur_diff</th>\n",
       "    </tr>\n",
       "  </thead>\n",
       "  <tbody>\n",
       "    <tr>\n",
       "      <th>0</th>\n",
       "      <td>2010</td>\n",
       "      <td>389.85</td>\n",
       "      <td>0.72</td>\n",
       "    </tr>\n",
       "    <tr>\n",
       "      <th>1</th>\n",
       "      <td>2011</td>\n",
       "      <td>391.63</td>\n",
       "      <td>0.61</td>\n",
       "    </tr>\n",
       "    <tr>\n",
       "      <th>2</th>\n",
       "      <td>2012</td>\n",
       "      <td>393.85</td>\n",
       "      <td>0.65</td>\n",
       "    </tr>\n",
       "    <tr>\n",
       "      <th>3</th>\n",
       "      <td>2013</td>\n",
       "      <td>396.48</td>\n",
       "      <td>0.66</td>\n",
       "    </tr>\n",
       "    <tr>\n",
       "      <th>4</th>\n",
       "      <td>2014</td>\n",
       "      <td>398.65</td>\n",
       "      <td>0.74</td>\n",
       "    </tr>\n",
       "  </tbody>\n",
       "</table>\n",
       "</div>"
      ],
      "text/plain": [
       "   Jahr  CO2_ppm  Temperatur_diff\n",
       "0  2010   389.85             0.72\n",
       "1  2011   391.63             0.61\n",
       "2  2012   393.85             0.65\n",
       "3  2013   396.48             0.66\n",
       "4  2014   398.65             0.74"
      ]
     },
     "execution_count": 22,
     "metadata": {},
     "output_type": "execute_result"
    }
   ],
   "source": [
    "df.head()"
   ]
  },
  {
   "cell_type": "markdown",
   "id": "966955b9-38c6-4ff0-a3c7-915d8614850c",
   "metadata": {},
   "source": [
    "Wir können nun mit den Daten aus der Tabelle arbeiten. Zum Beispiel das Maximum der Spalte `CO2_ppm` berechnen:"
   ]
  },
  {
   "cell_type": "code",
   "execution_count": 25,
   "id": "3a1a745c-8bab-4ae0-9de0-f122cb847dcd",
   "metadata": {},
   "outputs": [
    {
     "data": {
      "text/plain": [
       "np.float64(404.24)"
      ]
     },
     "execution_count": 25,
     "metadata": {},
     "output_type": "execute_result"
    }
   ],
   "source": [
    "df[\"CO2_ppm\"].max()"
   ]
  },
  {
   "cell_type": "markdown",
   "id": "37c15f1c-e739-4e39-a9f6-1365019caf76",
   "metadata": {},
   "source": [
    "**Aufgabe**\n",
    "\n",
    "> Probiere aus, das Minimum zu berechnen, oder zu beantworten, wie viele Reihen die Tabelle hat (Tipp: Nutze `len`). Was könnte man noch berechnen?"
   ]
  },
  {
   "cell_type": "code",
   "execution_count": null,
   "id": "317a79d1-6ca0-4fba-8ea5-d5113c9370b7",
   "metadata": {},
   "outputs": [],
   "source": []
  },
  {
   "cell_type": "code",
   "execution_count": null,
   "id": "f37130de-915a-40bf-ad1a-c5810f793a58",
   "metadata": {},
   "outputs": [],
   "source": []
  },
  {
   "cell_type": "code",
   "execution_count": null,
   "id": "adca2428-ee9d-4918-8636-5bdf3aed7da6",
   "metadata": {},
   "outputs": [],
   "source": []
  },
  {
   "cell_type": "code",
   "execution_count": null,
   "id": "badc15d7-91ce-4036-b9ee-c3e006e4cdff",
   "metadata": {},
   "outputs": [],
   "source": []
  },
  {
   "cell_type": "markdown",
   "id": "020368fa-ce95-4de0-b0f4-801bcfa931d4",
   "metadata": {},
   "source": [
    "---\n",
    "## matplotlib\n",
    "\n",
    "Manchmal ist es einfacher, Daten zu sehen, anstatt nur Zahlen zu lesen. Dafür gibt es in Python das Paket: Mit dem Paket `matplotlib`\n",
    "\n",
    "Mit `matplotlib.pyplot` (meist abgekürzt als `plt`) kannst du ganz einfach Diagramme erstellen – zum Beispiel Liniendiagramme, Balkendiagramme und mehr.\n",
    "\n",
    "So bindest du es ein:"
   ]
  },
  {
   "cell_type": "code",
   "execution_count": 18,
   "id": "2cbe378d-6b74-4b01-833c-dcf9822914e5",
   "metadata": {},
   "outputs": [],
   "source": [
    "import matplotlib.pyplot as plt"
   ]
  },
  {
   "cell_type": "code",
   "execution_count": 19,
   "id": "fd6aa7b4-3b52-4edf-b6bf-b8efe272cacd",
   "metadata": {},
   "outputs": [
    {
     "data": {
      "image/png": "[encoded data removed]",
      "text/plain": [
       "<Figure size 640x480 with 1 Axes>"
      ]
     },
     "metadata": {},
     "output_type": "display_data"
    }
   ],
   "source": [
    "mittlere_temperaturrn = [21.3, 22.4, 21.8, 20.9, 22.6]\n",
    "jahreszahlen = [2000, 2002, 2004, 2006, 2008]\n",
    "\n",
    "plt.plot(jahreszahlen, mittlere_temperaturrn, marker=\"o\")\n",
    "plt.title(\"Mittlere Temperaturen\")\n",
    "plt.xlabel(\"Jahr\")\n",
    "plt.ylabel(\"Mittlere Temperatur (°C)\")\n",
    "plt.grid(True)\n",
    "plt.show()"
   ]
  },
  {
   "cell_type": "markdown",
   "id": "8d4ad7d3-d1f2-436e-a5fd-f6b8cf75c27d",
   "metadata": {},
   "source": [
    "**Erklärung:**\n",
    "> `plt.plot(...)` erstellt ein Liniendiagramm.<br>\n",
    "> Der erste Eintrag in `plt.plot(...)` entspricht den X-Werten, der zweite Eintrag den Y-Werten.<br>\n",
    "> `plt.title(...)`, `xlabel(...)`, `ylabel(...)` geben dem Diagramm einen Titel und Achsenbeschriftungen.<br>\n",
    "> `plt.show()` zeigt das Diagramm an."
   ]
  },
  {
   "cell_type": "markdown",
   "id": "ac2eaf43-1e09-4976-b20d-7de5e7cf6276",
   "metadata": {},
   "source": [
    "**Aufgabe**:\n",
    "> Was macht `plt.grid()`? Kommentiere die Zeile aus und führe die Zelle erneut aus. Hierzu setzt du ein `#` for `plt.grid()`, was dafür sorgt, dass diese Zeile nicht ausgeführt wird.<br>\n",
    "> Verändere die Zahlen in `noten` oder füge weitere hinzu<br>\n",
    "> Füge einen weiteren Datensatz hinzu, indem du mehrmals `plt.plot(...)` mit anderen Variablen ausführst."
   ]
  },
  {
   "cell_type": "code",
   "execution_count": null,
   "id": "a6317e72-39cd-4072-84b5-a1ec03d0c4f2",
   "metadata": {},
   "outputs": [],
   "source": []
  }
 ],
 "metadata": {
  "kernelspec": {
   "display_name": "Python 3 (ipykernel)",
   "language": "python",
   "name": "python3"
  },
  "language_info": {
   "codemirror_mode": {
    "name": "ipython",
    "version": 3
   },
   "file_extension": ".py",
   "mimetype": "text/x-python",
   "name": "python",
   "nbconvert_exporter": "python",
   "pygments_lexer": "ipython3",
   "version": "3.13.2"
  }
 },
 "nbformat": 4,
 "nbformat_minor": 5
}
