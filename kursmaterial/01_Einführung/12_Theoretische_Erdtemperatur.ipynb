{
 "cells": [
  {
   "cell_type": "markdown",
   "id": "7fb41933-5336-437c-8e23-086b34c2f3f2",
   "metadata": {},
   "source": [
    "# Wie warm wäre es ohne Treibhausgase?\n",
    "\n",
    "Es gibt eine (relativ) einfache Formel, wie man die mittlere Temperatur der Erde berechnen kann. Diese Variante **vernachlässigt den Treibhauseffekt**!\n",
    "\n",
    "Es berücksichtigt nur den Albedo-Effekt und die Solarkonstante\n",
    "\n",
    "Weiterführende Informationen:\n",
    "- https://mscm.dkrz.de/overview_i18n.html?locale=DE\n",
    "- https://lehrerfortbildung-bw.de/u_matnatech/imp/gym/bp2016/fb2/p02_euw/1_hintergrund/2_gang/6_szenarien/\n",
    "- https://www.umweltbundesamt.de/themen/klima-energie/klimawandel/klima-treibhauseffekt#die-sonne-und-das-klima\n",
    "- https://users.monash.edu.au/~dietmard/teaching/GREB.lecture.notes.pdf\n",
    "\n",
    "\n",
    "**Was ist Albedo?**\n",
    "> Das Maß für die Rückstrahlung von Sonnenlicht.\n",
    "0 = alles wird absorbiert, 1 = alles wird reflektiert.\n",
    "\n",
    "**Was ist die Solarkonstante?**\n",
    "> Die Menge an Sonnenenergie, die auf 1 m² der Erde trifft (ca. 1361 W/m²).\n",
    "\n",
    "**Wie berechnen wir die Temperatur?**\n",
    "> Mit dem Strahlungsgleichgewicht:\n",
    "\n",
    "\\begin{equation}\n",
    "T = \\left( \\frac{(1-A)\\cdot S}{4 \\cdot \\sigma} \\right)^{1/4}\n",
    "\\end{equation}\n",
    "\n",
    "> $A$: Albedo (Reflexionsgrad, z. B. 0.3) <br>\n",
    "> $S$: Solarkonstante in W/m² (z. B. 1361) <br>\n",
    "> $\\sigma$: Stefan-Boltzmann-Konstante $\\approx$ $5.67 \\times 10^{-8}~W/(m^2\\cdot K^4)$"
   ]
  },
  {
   "cell_type": "code",
   "execution_count": 3,
   "id": "0ad7af56-9394-4652-884a-4f838ce713bd",
   "metadata": {},
   "outputs": [],
   "source": [
    "# Stefan-Boltzmann-Konstante in W/(m²·K⁴)\n",
    "sigma = 5.67e-8"
   ]
  },
  {
   "cell_type": "code",
   "execution_count": 15,
   "id": "8a26015a-48c1-415f-ae45-40288f905a20",
   "metadata": {},
   "outputs": [],
   "source": [
    "# Benutzereingaben:\n",
    "albedo = 0.3\n",
    "S = 1366"
   ]
  },
  {
   "cell_type": "code",
   "execution_count": 13,
   "id": "f63aae26-9db3-4450-8286-fc0dfa25786b",
   "metadata": {},
   "outputs": [],
   "source": [
    "# Berechnung der Temperatur in Kelvin\n",
    "T = ((1 - albedo) * S / (4 * sigma)) ** 0.25\n",
    "\n",
    "# Umrechnung in Grad Celsius\n",
    "T_celsius = T - 273.15"
   ]
  },
  {
   "cell_type": "code",
   "execution_count": 14,
   "id": "4ab69e8b-f086-4163-8335-dbb096a3f3f6",
   "metadata": {},
   "outputs": [
    {
     "name": "stdout",
     "output_type": "stream",
     "text": [
      "\n",
      "Theoretische Temperatur der Erde:\n",
      "254.82 Kelvin\n",
      "-18.33 °C\n"
     ]
    }
   ],
   "source": [
    "# Ausgabe\n",
    "print(f\"\\nTheoretische Temperatur der Erde:\")\n",
    "print(f\"{T:.2f} Kelvin\")\n",
    "print(f\"{T_celsius:.2f} °C\")"
   ]
  },
  {
   "cell_type": "markdown",
   "id": "c371ce66-b038-496a-a209-db0be84c76e5",
   "metadata": {},
   "source": [
    "## Weitere Albedo-Werte:\n",
    "\n",
    "\n",
    "| Oberfläche | Albedo (%)                 |\n",
    "|----------|------------------------------|\n",
    "| Ozean    | 2-10                   |\n",
    "| Wald    | 6-18                  |\n",
    "| Städte    | 14-18                  |\n",
    "| Vegetation    | 7-25                  |\n",
    "| Boden    | 10-20                 |\n",
    "| Grasland    | 16-20                |\n",
    "| Sandwüste    | 35-45               |\n",
    "| Wolken (dünn, dicke Stratuswolke)     | 30, 60-70               |\n",
    "| Schnee (alt)    | 40-60               |\n",
    "| Schnee (neu)    | 75-95               |\n"
   ]
  },
  {
   "cell_type": "code",
   "execution_count": null,
   "id": "23a0485e-bbd3-49a5-870e-2bf68fe6e91d",
   "metadata": {},
   "outputs": [],
   "source": []
  }
 ],
 "metadata": {
  "kernelspec": {
   "display_name": "Python 3 (ipykernel)",
   "language": "python",
   "name": "python3"
  },
  "language_info": {
   "codemirror_mode": {
    "name": "ipython",
    "version": 3
   },
   "file_extension": ".py",
   "mimetype": "text/x-python",
   "name": "python",
   "nbconvert_exporter": "python",
   "pygments_lexer": "ipython3",
   "version": "3.13.2"
  }
 },
 "nbformat": 4,
 "nbformat_minor": 5
}
