{
 "cells": [
  {
   "cell_type": "markdown",
   "id": "185f7463-7a87-44bf-ab56-9f39f69df6cc",
   "metadata": {},
   "source": [
    "# Messdaten vom Berg Mauna Loa, Hawaii\n",
    "\n",
    "Auf dem Berg Mauna Loa, Hawaii, steht eine Messstation.\n",
    "\n",
    "Unter https://gml.noaa.gov/ccgg/trends/data.html können wir verschiedene Messdaten herunterladen. Du findest einige der dort verfügbaren Daten im Ordner `daten/` - am besten du schaust einmal rein."
   ]
  },
  {
   "cell_type": "markdown",
   "id": "176d6282-dad4-45cb-a0e7-befaae29744b",
   "metadata": {},
   "source": [
    "## Daten einlesen.\n",
    "\n",
    "Zunächst importieren wir das Paket `pandas` und vergeben den Alias `pd`:"
   ]
  },
  {
   "cell_type": "code",
   "execution_count": null,
   "id": "bbb3ba53-b55b-46d2-9691-1ecf4f1c0d7f",
   "metadata": {},
   "outputs": [],
   "source": [
    "import pandas as pd"
   ]
  },
  {
   "cell_type": "markdown",
   "id": "a5083a3a-70db-4dff-9c2b-a92a73137b41",
   "metadata": {},
   "source": [
    "Eine Textdatei im CSV-Format können wir mit `read_csv` einlesen. Wir wollen die Datei \"co2_daily_mlo.csv\" im Ordner \"daten\" einlesen.\n",
    "\n",
    "> Ein Blick in die Datei verrät uns, dass Zeilen, die mit \"#\" beginnen ignoriert werden können bzw. als Kommentar zu interpretieren sind<br>\n",
    "> Die Namen der Spalten legen wir mit dem Argument `names` fest."
   ]
  },
  {
   "cell_type": "code",
   "execution_count": null,
   "id": "2399210f-a007-4ebf-8332-d34c15d35bba",
   "metadata": {},
   "outputs": [],
   "source": [
    "df = pd.read_csv(\n",
    "    \"daten/co2_daily_mlo.csv\",                              # Dateipfad\n",
    "    comment='#',                                            # alle Zeilen mit # ignorieren\n",
    "    names=['Jahr', 'Monat', 'Tag', 'Decimal_Datum', 'CO2']  # die Spaltennamen\n",
    ")"
   ]
  },
  {
   "cell_type": "markdown",
   "id": "33b36211-ea62-4f1e-8e3e-bf27892e591b",
   "metadata": {},
   "source": [
    "Einen ersten Eindruck über die eingelesenen Daten erhalten wir mit `.head()`"
   ]
  },
  {
   "cell_type": "code",
   "execution_count": null,
   "id": "ed57c9ee-2d98-4561-ad2a-36c4c0d9e95b",
   "metadata": {},
   "outputs": [],
   "source": [
    "df.head()"
   ]
  },
  {
   "cell_type": "markdown",
   "id": "51fbf2bc-45fc-42f0-ab3f-1be1bd319352",
   "metadata": {},
   "source": [
    "Das Paket `pandas` stellt uns eine Plotting-Funktion `.plot(...)` zur Verfügung. Sie verwendet im Hintergrund `matplotlib`:"
   ]
  },
  {
   "cell_type": "code",
   "execution_count": null,
   "id": "e30c682a-2d80-48a2-9c10-aced810c4d1f",
   "metadata": {},
   "outputs": [],
   "source": [
    "df.plot(x=\"Decimal_Datum\", y=\"CO2\", title=\"CO2 Konzentration\", xlabel=\"Datum\", ylabel=\"CO2 Konzentration\")"
   ]
  },
  {
   "cell_type": "code",
   "execution_count": null,
   "id": "2e2674ca-4b45-439b-a707-ac02cfd5a62b",
   "metadata": {},
   "outputs": [],
   "source": [
    "df[df[\"Decimal_Datum\"] < 1980].plot(x=\"Decimal_Datum\", y=\"CO2\", xlabel=\"Datum\", ylabel=\"CO2 Konzentration [ppm]\")"
   ]
  },
  {
   "cell_type": "markdown",
   "id": "37085627-5fce-41e8-a30b-b09e04607e0d",
   "metadata": {},
   "source": [
    "**Aufgabe**\n",
    "> Schau dir einmal andere Zeiträume an<br>\n",
    "> Berechne den Mittelwert, das Minimum und das Maximum dieses Zeitraums"
   ]
  },
  {
   "cell_type": "code",
   "execution_count": null,
   "id": "4d99634e-af3d-43ba-974f-a4e2978db192",
   "metadata": {},
   "outputs": [],
   "source": []
  },
  {
   "cell_type": "code",
   "execution_count": null,
   "id": "7c9a435e-87bf-4840-8654-3746c2ce43c9",
   "metadata": {},
   "outputs": [],
   "source": []
  },
  {
   "cell_type": "markdown",
   "id": "1717a44e-5265-4d17-992f-90bc45a7d951",
   "metadata": {},
   "source": [
    "## Jahresmittelwerte berechnen\n",
    "\n",
    "Wenn uns der Verlauf im Detail nicht interessiert, ist eine reduzierte Darstellung gefragt. Zum Beispiel können wir die CO2-Konzentrationen für jedes Jahr berechnen. Dazu können wir den Mittelwert (`mean`) für jedes Jahr (`groupby('Jahr')`) berechen:"
   ]
  },
  {
   "cell_type": "code",
   "execution_count": null,
   "id": "51f8e29f-fc0f-4702-accd-11c05edf7be9",
   "metadata": {},
   "outputs": [],
   "source": [
    "yearly_avg = df.groupby('Jahr')['CO2'].mean()\n",
    "yearly_avg.plot(x=\"Jahr\", y=\"CO2\", xlabel=\"Datum\")"
   ]
  },
  {
   "cell_type": "markdown",
   "id": "f3fc94bd-bfa8-499b-9f2c-f1879410de0a",
   "metadata": {},
   "source": [
    "## Zusatzübung:"
   ]
  },
  {
   "cell_type": "markdown",
   "id": "e9f4608b-0a62-405b-8d6b-12d4b4c1c599",
   "metadata": {},
   "source": [
    "Wir können den obigen Graph auch selber mit `matplotlib` erstellen:"
   ]
  },
  {
   "cell_type": "code",
   "execution_count": null,
   "id": "8b314de5-0acf-4984-ad64-6c1c988d1c52",
   "metadata": {},
   "outputs": [],
   "source": [
    "import matplotlib.pyplot as plt\n",
    "\n",
    "x = df[\"Decimal_Datum\"]\n",
    "y = df[\"CO2\"]\n",
    "\n",
    "plt.figure()\n",
    "plt.plot(x, y)\n",
    "plt.xlabel(\"Datum\")\n",
    "plt.ylabel(\"CO2-Konzentration\")\n",
    "plt.show()"
   ]
  },
  {
   "cell_type": "code",
   "execution_count": null,
   "id": "c1b93160-eda6-4e6e-90dd-7489a724df49",
   "metadata": {},
   "outputs": [],
   "source": []
  }
 ],
 "metadata": {
  "kernelspec": {
   "display_name": "Python 3 (ipykernel)",
   "language": "python",
   "name": "python3"
  },
  "language_info": {
   "codemirror_mode": {
    "name": "ipython",
    "version": 3
   },
   "file_extension": ".py",
   "mimetype": "text/x-python",
   "name": "python",
   "nbconvert_exporter": "python",
   "pygments_lexer": "ipython3",
   "version": "3.13.2"
  }
 },
 "nbformat": 4,
 "nbformat_minor": 5
}
