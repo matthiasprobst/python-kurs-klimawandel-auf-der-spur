{
 "cells": [
  {
   "cell_type": "markdown",
   "id": "9fd7c918-d8ac-4a2b-9ab0-b33b225e8bfd",
   "metadata": {},
   "source": [
    "# Land- und Ozeantemperaturindex\n",
    "\n",
    "Der Land-Ozean-Temperaturindex ist ein Maß für das Klima der Erde, das die Lufttemperatur an der Landoberfläche und die Meeresoberflächentemperatur (SST) kombiniert, um die Gesamttemperaturänderungen zu bewerten. Er ist eine wichtige Messgröße für die Überwachung der globalen Erwärmung und das Verständnis ihrer Auswirkungen auf uns Menschen."
   ]
  },
  {
   "cell_type": "code",
   "execution_count": null,
   "id": "3229830c-e625-47b6-8687-5b18fec30371",
   "metadata": {},
   "outputs": [],
   "source": [
    "import pandas as pd"
   ]
  },
  {
   "cell_type": "code",
   "execution_count": null,
   "id": "3996dd9c-fc90-4d8f-a4b6-9eb662cca463",
   "metadata": {},
   "outputs": [],
   "source": [
    "df = pd.read_csv(\"daten/land_ocean_temperature_index.txt\", header=3, names=[\"Year\", \"No_Smoothing\", \"Lowess(5)\"], skip_blank_lines=True, delimiter=\"     \")\n",
    "df.head()"
   ]
  },
  {
   "cell_type": "code",
   "execution_count": null,
   "id": "5f2748cd-a523-4c36-807d-75173dc8bf4f",
   "metadata": {},
   "outputs": [],
   "source": [
    "df[[\"Year\", \"No_Smoothing\"]].plot(x=\"Year\")"
   ]
  },
  {
   "cell_type": "code",
   "execution_count": null,
   "id": "f2be98c0-ffec-4a44-8970-b5a753fb8c11",
   "metadata": {},
   "outputs": [],
   "source": []
  }
 ],
 "metadata": {
  "kernelspec": {
   "display_name": "Python 3 (ipykernel)",
   "language": "python",
   "name": "python3"
  },
  "language_info": {
   "codemirror_mode": {
    "name": "ipython",
    "version": 3
   },
   "file_extension": ".py",
   "mimetype": "text/x-python",
   "name": "python",
   "nbconvert_exporter": "python",
   "pygments_lexer": "ipython3",
   "version": "3.13.2"
  }
 },
 "nbformat": 4,
 "nbformat_minor": 5
}
