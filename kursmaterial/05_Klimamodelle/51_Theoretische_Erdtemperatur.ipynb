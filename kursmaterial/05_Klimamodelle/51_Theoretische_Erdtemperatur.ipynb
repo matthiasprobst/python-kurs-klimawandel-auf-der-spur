{
 "cells": [
  {
   "cell_type": "markdown",
   "id": "0cfad6a7-0598-4aa9-8514-07585e55632e",
   "metadata": {},
   "source": [
    "# Klimamodellierung - Wie man das Klima der Zukunft vorhersagen kann\n",
    "\n",
    "Wie wird das Klima in 50 Jahren aussehen? Werden die Temperaturen weiter steigen? Wie stark werden die Eisschilde schmelzen oder extreme Wetterereignisse zunehmen?<br>\n",
    "\n",
    "Solche Fragen lassen sich nicht durch bloßes Beobachten beantworten - dafür braucht man Klimamodelle. Ein Klimamodell ist ein Computermodell, das mithilfe von physikalischen, chemischen und mathematischen Gleichungen beschreibt, wie sich das Klima auf der Erde entwickelt. Dabei fließen viele Faktoren ein, wie Sonnenstrahlung, CO₂-Konzentration, Wolkenbildung oder Meeresströmungen.<br>\n",
    "\n",
    "Auch wenn diese Modelle sehr komplex sind, steckt hinter ihnen eine einfache Grundidee: Man nimmt bekannte Daten über die Erde heute und rechnet Schritt für Schritt voraus, wie sich bestimmte Werte verändern - ähnlich wie bei einem Wetterbericht, aber auf lange Sicht und global.\n",
    "\n",
    "Klimamodelle können ziemlich kompliziert werden. Man könnte mehrere weitere Kurse damit füllen - ja gar ein ganzes Studium.\n",
    "\n",
    "Ich möchte dir dennoch erste Einblicke in einfache Ideen geben und wie man diese mit Python darstellen kann:"
   ]
  },
  {
   "cell_type": "markdown",
   "id": "7fb41933-5336-437c-8e23-086b34c2f3f2",
   "metadata": {},
   "source": [
    "# Wie warm wäre es ohne Treibhausgase?\n",
    "\n",
    "Es gibt eine (relativ) einfache Formel, wie man die mittlere Temperatur der Erde berechnen kann. Diese Variante **vernachlässigt den Treibhauseffekt**!\n",
    "\n",
    "Es berücksichtigt nur den Albedo-Effekt und die Solarkonstante\n",
    "\n",
    "Weiterführende Informationen:\n",
    "- https://mscm.dkrz.de/overview_i18n.html?locale=DE\n",
    "- https://lehrerfortbildung-bw.de/u_matnatech/imp/gym/bp2016/fb2/p02_euw/1_hintergrund/2_gang/6_szenarien/\n",
    "- https://www.umweltbundesamt.de/themen/klima-energie/klimawandel/klima-treibhauseffekt#die-sonne-und-das-klima\n",
    "- https://users.monash.edu.au/~dietmard/teaching/GREB.lecture.notes.pdf\n",
    "\n",
    "\n",
    "**Was ist Albedo?**\n",
    "> Das Maß für die Rückstrahlung von Sonnenlicht.\n",
    "0 = alles wird absorbiert, 1 = alles wird reflektiert.\n",
    "\n",
    "**Was ist die Solarkonstante?**\n",
    "> Die Menge an Sonnenenergie, die auf 1 m² der Erde trifft (ca. 1361 W/m²).\n",
    "\n",
    "**Wie berechnen wir die Temperatur?**\n",
    "> Mit dem Strahlungsgleichgewicht:\n",
    "\n",
    "\\begin{equation}\n",
    "T = \\left( \\frac{(1-A)\\cdot S}{4 \\cdot \\sigma} \\right)^{1/4}\n",
    "\\end{equation}\n",
    "\n",
    "> $A$: Albedo (Reflexionsgrad, z. B. 0.3) <br>\n",
    "> $S$: Solarkonstante in W/m² (z. B. 1361) <br>\n",
    "> $\\sigma$: Stefan-Boltzmann-Konstante $\\approx$ $5.67 \\times 10^{-8}~W/(m^2\\cdot K^4)$"
   ]
  },
  {
   "cell_type": "code",
   "execution_count": null,
   "id": "0ad7af56-9394-4652-884a-4f838ce713bd",
   "metadata": {},
   "outputs": [],
   "source": [
    "# Stefan-Boltzmann-Konstante in W/(m²·K⁴)\n",
    "sigma = 5.67e-8"
   ]
  },
  {
   "cell_type": "code",
   "execution_count": null,
   "id": "8a26015a-48c1-415f-ae45-40288f905a20",
   "metadata": {},
   "outputs": [],
   "source": [
    "# Benutzereingaben:\n",
    "albedo = 0.3\n",
    "S = 1366"
   ]
  },
  {
   "cell_type": "code",
   "execution_count": null,
   "id": "f63aae26-9db3-4450-8286-fc0dfa25786b",
   "metadata": {},
   "outputs": [],
   "source": [
    "# Berechnung der Temperatur in Kelvin\n",
    "T = ((1 - albedo) * S / (4 * sigma)) ** 0.25\n",
    "\n",
    "# Umrechnung in Grad Celsius\n",
    "T_celsius = T - 273.15"
   ]
  },
  {
   "cell_type": "code",
   "execution_count": null,
   "id": "4ab69e8b-f086-4163-8335-dbb096a3f3f6",
   "metadata": {},
   "outputs": [],
   "source": [
    "# Ausgabe\n",
    "print(f\"\\nTheoretische Temperatur der Erde:\")\n",
    "print(f\"{T:.2f} Kelvin\")\n",
    "print(f\"{T_celsius:.2f} °C\")"
   ]
  },
  {
   "cell_type": "markdown",
   "id": "c371ce66-b038-496a-a209-db0be84c76e5",
   "metadata": {},
   "source": [
    "## Weitere Albedo-Werte:\n",
    "\n",
    "\n",
    "| Oberfläche | Albedo (%)                 |\n",
    "|----------|------------------------------|\n",
    "| Ozean    | 2-10                   |\n",
    "| Wald    | 6-18                  |\n",
    "| Städte    | 14-18                  |\n",
    "| Vegetation    | 7-25                  |\n",
    "| Boden    | 10-20                 |\n",
    "| Grasland    | 16-20                |\n",
    "| Sandwüste    | 35-45               |\n",
    "| Wolken (dünn, dicke Stratuswolke)     | 30, 60-70               |\n",
    "| Schnee (alt)    | 40-60               |\n",
    "| Schnee (neu)    | 75-95               |\n"
   ]
  },
  {
   "cell_type": "markdown",
   "id": "529ba554-e331-44d1-8200-d103200984cb",
   "metadata": {},
   "source": [
    "# Einfache Projektion von Temperatur anhand von CO₂-Werten\n",
    "\n",
    "Wir nutzen echte historische CO₂-Daten und eine vereinfachte Formel, um zu schätzen, wie sich die Temperatur entwickelt, wenn CO₂ weiter steigt.\n",
    "\n",
    "**Physikalischer Hintergrund (vereinfacht)**\n",
    "\n",
    "Es gibt in der Klimaforschung eine Faustregel:\n",
    "\\begin{equation}\n",
    "\\Delta T = \\lambda \\cdot \\Delta F\n",
    "\\end{equation}\n",
    "\n",
    "> $\\Delta T$: emperaturänderung <br>\n",
    "> $\\lambda$: Klimasensitivität (etwa 0.8 °C pro W/m²) <br>\n",
    "> $\\Delta F$: Strahlungsantrieb durch CO₂\n",
    "\n",
    "Der Strahlungsantrieb durch CO₂ wird berechnet als:\n",
    "\\begin{equation}\n",
    "\\Delta F = 5.35 \\cdot \\ln \\left( \\frac{C}{C_0} \\right)\n",
    "\\end{equation}\n",
    "\n",
    "> $C$: aktuelle CO₂-Konzentration (ppm) <br>\n",
    "> $C_0$: Ausgangskonzentration (z. B. 280 ppm vorindustriell)"
   ]
  },
  {
   "cell_type": "code",
   "execution_count": null,
   "id": "70b2ce81-b8dd-4aaf-b054-1066d3ab4009",
   "metadata": {},
   "outputs": [],
   "source": [
    "import pandas as pd\n",
    "import numpy as np\n",
    "import matplotlib.pyplot as plt\n",
    "\n",
    "# Beispiel: historische CO₂-Daten (ppm)\n",
    "df = pd.read_csv(\n",
    "    \"../02_Daten_lesen_und_verarbeiten/daten/co2_daily_mlo.csv\",                              # Dateipfad\n",
    "    comment='#',                                            # alle Zeilen mit # ignorieren\n",
    "    names=['Jahr', 'Monat', 'Tag', 'Decimal_Datum', 'CO2_ppm']  # die Spaltennamen\n",
    ")"
   ]
  },
  {
   "cell_type": "code",
   "execution_count": null,
   "id": "88c9f194-b9f0-474f-a3f9-a68b8073fb3b",
   "metadata": {},
   "outputs": [],
   "source": [
    "df.head()"
   ]
  },
  {
   "cell_type": "code",
   "execution_count": null,
   "id": "305b2833-2d0c-4ea9-9434-e5aee90fb6e9",
   "metadata": {},
   "outputs": [],
   "source": [
    "C0 = 280  # vorindustrieller Wert\n",
    "lambda_klima = 0.8  # °C pro W/m²\n",
    "\n",
    "# Berechne ΔF und ΔT\n",
    "df[\"delta_F\"] = 5.35 * np.log(df[\"CO2_ppm\"] / C0)\n",
    "df[\"delta_T\"] = lambda_klima * df[\"delta_F\"]"
   ]
  },
  {
   "cell_type": "code",
   "execution_count": null,
   "id": "421fa95f-c6d5-4d1d-8e8a-be9609c88972",
   "metadata": {},
   "outputs": [],
   "source": [
    "plt.figure(figsize=(10, 5))\n",
    "plt.plot(df[\"Jahr\"], df[\"delta_T\"], label=\"Modellierte Temperaturänderung\")\n",
    "plt.xlabel(\"Jahr\")\n",
    "plt.ylabel(\"Δ Temperatur (°C)\")\n",
    "plt.title(\"Geschätzte Temperaturänderung durch CO₂-Anstieg\")\n",
    "plt.grid(True)\n",
    "plt.legend()\n",
    "plt.show()"
   ]
  },
  {
   "cell_type": "markdown",
   "id": "75fb2766-fd74-48f8-8348-a98873570464",
   "metadata": {},
   "source": [
    "Vergleiche zu globaler, durchschnittlicher Temperatur"
   ]
  },
  {
   "cell_type": "code",
   "execution_count": null,
   "id": "e88d6f1f-ef16-4d07-85dc-b6f3d9c0bfdc",
   "metadata": {},
   "outputs": [],
   "source": [
    "df_meas = pd.read_csv(\"GLB.Ts+dSST.csv\", skiprows=1)\n",
    "df_meas.head()\n",
    "df_meas = df_meas.rename(columns={\"Year\": \"Jahr\", \"J-D\": \"Temp_diff\"})\n",
    "\n",
    "# Nur Jahr und Temperaturdifferenz behalten\n",
    "df_meas = df_meas[[\"Jahr\", \"Temp_diff\"]]\n",
    "df_meas = df_meas[df_meas[\"Temp_diff\"] != \"***\"]  # Fehlwerte entfernen\n",
    "df_meas[\"Temp_diff\"] = df_meas[\"Temp_diff\"].astype(float)\n"
   ]
  },
  {
   "cell_type": "code",
   "execution_count": null,
   "id": "7c1ced6f-a64c-4809-90fd-12d3b742dd94",
   "metadata": {},
   "outputs": [],
   "source": [
    "plt.figure(figsize=(10, 5))\n",
    "plt.plot(df[\"Jahr\"], df[\"delta_T\"], label=\"Modellierte Temperaturänderung\")\n",
    "plt.plot(df_meas[\"Jahr\"], df_meas[\"Temp_diff\"], label=\"Gemessene Temperaturabweichung\", color=\"blue\")\n",
    "plt.xlabel(\"Jahr\")\n",
    "plt.ylabel(\"Δ Temperatur (°C)\")\n",
    "plt.title(\"Geschätzte Temperaturänderung durch CO₂-Anstieg\")\n",
    "plt.grid(True)\n",
    "plt.legend()\n",
    "plt.show()"
   ]
  },
  {
   "cell_type": "code",
   "execution_count": null,
   "id": "033aebff-71dd-423b-8568-4de6e133069c",
   "metadata": {},
   "outputs": [],
   "source": []
  }
 ],
 "metadata": {
  "kernelspec": {
   "display_name": "Python 3 (ipykernel)",
   "language": "python",
   "name": "python3"
  },
  "language_info": {
   "codemirror_mode": {
    "name": "ipython",
    "version": 3
   },
   "file_extension": ".py",
   "mimetype": "text/x-python",
   "name": "python",
   "nbconvert_exporter": "python",
   "pygments_lexer": "ipython3",
   "version": "3.13.2"
  }
 },
 "nbformat": 4,
 "nbformat_minor": 5
}
