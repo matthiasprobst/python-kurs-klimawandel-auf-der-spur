{
 "cells": [
  {
   "cell_type": "markdown",
   "id": "28294d6f-d7f0-4e9d-8180-1a09cfa5bfd2",
   "metadata": {},
   "source": [
    "# Inhaltsverzeichnis\n",
    "\n",
    "1. Einführung<br>\n",
    "1.1  [Einführung in Python](01_Einführung/11_Einführung_in_Python.ipynb)<br>\n",
    "2. Daten lesen und verarbeiten<br>\n",
    "2.1 [Die CO2-Konzentration auf Hawaii](02_Daten_lesen_und_verarbeiten/21_CO2_auf_Mauna_Loa_Hawaii.ipynb)<br>\n",
    "2.2 [Land-Ozean-Temperaturindex](02_Daten_lesen_und_verarbeiten/22_Land_und_Ozeantemperaturindex.ipynb)<br>\n",
    "3. Daten aus einer Schnittstelle (API) lesen<br>\n",
    "3.1 [Wetterdaten aus Waldkirch](03_Wetterstation_Waldkirch/31_SFZ_Wetterstation_Waldkirch.ipynb)<br>\n",
    "4. Externe Wetterdaten analysieren<br>\n",
    "4.1 [Beispiel: Pegelstände](04_Externe_Wetterdaten_analysieren/41_Pegelstände_Bodensee.ipynb)<br>\n",
    "4.2 [Eigene Projekte](04_Externe_Wetterdaten_analysieren/42_Eigene_Projekte.ipynb)<br>\n",
    "5. Klimamodelle (Ausblick)<br>\n",
    "5.1  [Theoretische Erdtemperatur berechnen](05_Klimamodelle/51_Theoretische_Erdtemperatur.ipynb)<br>"
   ]
  },
  {
   "cell_type": "code",
   "execution_count": null,
   "id": "c73c3f72-2081-48f2-8bef-e673087802ed",
   "metadata": {},
   "outputs": [],
   "source": []
  }
 ],
 "metadata": {
  "kernelspec": {
   "display_name": "Python 3 (ipykernel)",
   "language": "python",
   "name": "python3"
  },
  "language_info": {
   "codemirror_mode": {
    "name": "ipython",
    "version": 3
   },
   "file_extension": ".py",
   "mimetype": "text/x-python",
   "name": "python",
   "nbconvert_exporter": "python",
   "pygments_lexer": "ipython3",
   "version": "3.13.2"
  }
 },
 "nbformat": 4,
 "nbformat_minor": 5
}
